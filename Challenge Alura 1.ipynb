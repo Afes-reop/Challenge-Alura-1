{
 "cells": [
  {
   "cell_type": "markdown",
   "id": "65b22322",
   "metadata": {},
   "source": [
    "# Desafío - Análisis de ventas y rendimiento de las tiendas"
   ]
  },
  {
   "cell_type": "markdown",
   "id": "0d13f7e7",
   "metadata": {},
   "source": [
    "El objetivo de este desafío es ayudar al señor Juan a decidir qué tienda debe vender para invertir en un nuevo negocio. Para ello, evaluaremos cuál de estas cuatro tiendas tiene un desempeño menor, permitiendo al señor Juan tomar la decisión de cuál de estas cuatro tiendas debe vender para invertir en un nuevo negocio.\n",
    "\n",
    "Te han contratado para realizar este análisis. Tu jefe te ha pedido que hagas la evaluación basándose en estos cinco aspectos:\n",
    "\n",
    "1. Facturación total de cada tienda, es decir, cuál tienda vende más. \n",
    "2. Cuáles son las categorías más populares de cada tienda, es decir, cuáles productos se venden más en cada tienda?\n",
    "3. Cuál es el promedio de evaluación de cada uno de los clientes?\n",
    "4. Cuáles son los productos más y menos vendidos en cada tienda?\n",
    "5. Cuál es el costo promedio del envío desde la tienda hasta el lugar de cada uno de los clientes?\n",
    "\n",
    "Con estos datos, ayudara al señor Juan a tomar una decisión fundamental y estratégica."
   ]
  },
  {
   "cell_type": "markdown",
   "id": "7fa25ca5",
   "metadata": {},
   "source": [
    "### Importación de la base de datos"
   ]
  },
  {
   "cell_type": "code",
   "execution_count": 2,
   "id": "4fa9d9d4",
   "metadata": {},
   "outputs": [
    {
     "name": "stdout",
     "output_type": "stream",
     "text": [
      "Requirement already satisfied: pandas in c:\\users\\user\\appdata\\local\\programs\\python\\python313\\lib\\site-packages (2.3.1)\n",
      "Requirement already satisfied: numpy>=1.26.0 in c:\\users\\user\\appdata\\local\\programs\\python\\python313\\lib\\site-packages (from pandas) (2.3.2)\n",
      "Requirement already satisfied: python-dateutil>=2.8.2 in c:\\users\\user\\appdata\\roaming\\python\\python313\\site-packages (from pandas) (2.9.0.post0)\n",
      "Requirement already satisfied: pytz>=2020.1 in c:\\users\\user\\appdata\\local\\programs\\python\\python313\\lib\\site-packages (from pandas) (2025.2)\n",
      "Requirement already satisfied: tzdata>=2022.7 in c:\\users\\user\\appdata\\local\\programs\\python\\python313\\lib\\site-packages (from pandas) (2025.2)\n",
      "Requirement already satisfied: six>=1.5 in c:\\users\\user\\appdata\\roaming\\python\\python313\\site-packages (from python-dateutil>=2.8.2->pandas) (1.17.0)\n",
      "Note: you may need to restart the kernel to use updated packages.\n"
     ]
    }
   ],
   "source": [
    "%pip install pandas"
   ]
  },
  {
   "cell_type": "code",
   "execution_count": 3,
   "id": "68cb08e0",
   "metadata": {},
   "outputs": [
    {
     "data": {
      "text/html": [
       "<div>\n",
       "<style scoped>\n",
       "    .dataframe tbody tr th:only-of-type {\n",
       "        vertical-align: middle;\n",
       "    }\n",
       "\n",
       "    .dataframe tbody tr th {\n",
       "        vertical-align: top;\n",
       "    }\n",
       "\n",
       "    .dataframe thead th {\n",
       "        text-align: right;\n",
       "    }\n",
       "</style>\n",
       "<table border=\"1\" class=\"dataframe\">\n",
       "  <thead>\n",
       "    <tr style=\"text-align: right;\">\n",
       "      <th></th>\n",
       "      <th>Producto</th>\n",
       "      <th>Categoría del Producto</th>\n",
       "      <th>Precio</th>\n",
       "      <th>Costo de envío</th>\n",
       "      <th>Fecha de Compra</th>\n",
       "      <th>Vendedor</th>\n",
       "      <th>Lugar de Compra</th>\n",
       "      <th>Calificación</th>\n",
       "      <th>Método de pago</th>\n",
       "      <th>Cantidad de cuotas</th>\n",
       "      <th>lat</th>\n",
       "      <th>lon</th>\n",
       "    </tr>\n",
       "  </thead>\n",
       "  <tbody>\n",
       "    <tr>\n",
       "      <th>0</th>\n",
       "      <td>Asistente virtual</td>\n",
       "      <td>Electrónicos</td>\n",
       "      <td>164300.0</td>\n",
       "      <td>6900.0</td>\n",
       "      <td>16/01/2021</td>\n",
       "      <td>Pedro Gomez</td>\n",
       "      <td>Bogotá</td>\n",
       "      <td>4</td>\n",
       "      <td>Tarjeta de crédito</td>\n",
       "      <td>8</td>\n",
       "      <td>4.60971</td>\n",
       "      <td>-74.08175</td>\n",
       "    </tr>\n",
       "    <tr>\n",
       "      <th>1</th>\n",
       "      <td>Mesa de comedor</td>\n",
       "      <td>Muebles</td>\n",
       "      <td>192300.0</td>\n",
       "      <td>8400.0</td>\n",
       "      <td>18/05/2022</td>\n",
       "      <td>Beatriz Morales</td>\n",
       "      <td>Medellín</td>\n",
       "      <td>1</td>\n",
       "      <td>Tarjeta de crédito</td>\n",
       "      <td>4</td>\n",
       "      <td>6.25184</td>\n",
       "      <td>-75.56359</td>\n",
       "    </tr>\n",
       "    <tr>\n",
       "      <th>2</th>\n",
       "      <td>Juego de mesa</td>\n",
       "      <td>Juguetes</td>\n",
       "      <td>209600.0</td>\n",
       "      <td>15900.0</td>\n",
       "      <td>15/03/2021</td>\n",
       "      <td>Juan Fernandez</td>\n",
       "      <td>Cartagena</td>\n",
       "      <td>1</td>\n",
       "      <td>Tarjeta de crédito</td>\n",
       "      <td>1</td>\n",
       "      <td>10.39972</td>\n",
       "      <td>-75.51444</td>\n",
       "    </tr>\n",
       "    <tr>\n",
       "      <th>3</th>\n",
       "      <td>Microondas</td>\n",
       "      <td>Electrodomésticos</td>\n",
       "      <td>757500.0</td>\n",
       "      <td>41000.0</td>\n",
       "      <td>03/05/2022</td>\n",
       "      <td>Juan Fernandez</td>\n",
       "      <td>Cali</td>\n",
       "      <td>4</td>\n",
       "      <td>Nequi</td>\n",
       "      <td>1</td>\n",
       "      <td>3.43722</td>\n",
       "      <td>-76.52250</td>\n",
       "    </tr>\n",
       "    <tr>\n",
       "      <th>4</th>\n",
       "      <td>Silla de oficina</td>\n",
       "      <td>Muebles</td>\n",
       "      <td>335200.0</td>\n",
       "      <td>20200.0</td>\n",
       "      <td>07/11/2020</td>\n",
       "      <td>Maria Alfonso</td>\n",
       "      <td>Medellín</td>\n",
       "      <td>5</td>\n",
       "      <td>Nequi</td>\n",
       "      <td>1</td>\n",
       "      <td>6.25184</td>\n",
       "      <td>-75.56359</td>\n",
       "    </tr>\n",
       "  </tbody>\n",
       "</table>\n",
       "</div>"
      ],
      "text/plain": [
       "            Producto Categoría del Producto    Precio  Costo de envío  \\\n",
       "0  Asistente virtual           Electrónicos  164300.0          6900.0   \n",
       "1    Mesa de comedor                Muebles  192300.0          8400.0   \n",
       "2      Juego de mesa               Juguetes  209600.0         15900.0   \n",
       "3         Microondas      Electrodomésticos  757500.0         41000.0   \n",
       "4   Silla de oficina                Muebles  335200.0         20200.0   \n",
       "\n",
       "  Fecha de Compra         Vendedor Lugar de Compra  Calificación  \\\n",
       "0      16/01/2021      Pedro Gomez          Bogotá             4   \n",
       "1      18/05/2022  Beatriz Morales        Medellín             1   \n",
       "2      15/03/2021   Juan Fernandez       Cartagena             1   \n",
       "3      03/05/2022   Juan Fernandez            Cali             4   \n",
       "4      07/11/2020    Maria Alfonso        Medellín             5   \n",
       "\n",
       "       Método de pago  Cantidad de cuotas       lat       lon  \n",
       "0  Tarjeta de crédito                   8   4.60971 -74.08175  \n",
       "1  Tarjeta de crédito                   4   6.25184 -75.56359  \n",
       "2  Tarjeta de crédito                   1  10.39972 -75.51444  \n",
       "3               Nequi                   1   3.43722 -76.52250  \n",
       "4               Nequi                   1   6.25184 -75.56359  "
      ]
     },
     "execution_count": 3,
     "metadata": {},
     "output_type": "execute_result"
    }
   ],
   "source": [
    "import pandas as pd\n",
    "\n",
    "url1 = \"https://raw.githubusercontent.com/alura-es-cursos/challenge1-data-science-latam/refs/heads/main/base-de-datos-challenge1-latam/tienda_1%20.csv\"\n",
    "url2 = \"https://raw.githubusercontent.com/alura-es-cursos/challenge1-data-science-latam/refs/heads/main/base-de-datos-challenge1-latam/tienda_2.csv\"\n",
    "url3 = \"https://raw.githubusercontent.com/alura-es-cursos/challenge1-data-science-latam/refs/heads/main/base-de-datos-challenge1-latam/tienda_3.csv\"\n",
    "url4 = \"https://raw.githubusercontent.com/alura-es-cursos/challenge1-data-science-latam/refs/heads/main/base-de-datos-challenge1-latam/tienda_4.csv\"\n",
    "\n",
    "tienda1 = pd.read_csv(url1)\n",
    "tienda2 = pd.read_csv(url2)\n",
    "tienda3 = pd.read_csv(url3)\n",
    "tienda4 = pd.read_csv(url4)\n",
    "\n",
    "tienda1.head()"
   ]
  },
  {
   "cell_type": "markdown",
   "id": "b8bfa56c",
   "metadata": {},
   "source": [
    "## 1. Análisis de facturación:"
   ]
  },
  {
   "cell_type": "code",
   "execution_count": null,
   "id": "52b3badd",
   "metadata": {},
   "outputs": [],
   "source": []
  },
  {
   "cell_type": "markdown",
   "id": "ad114a99",
   "metadata": {},
   "source": [
    "## 2. Ventas por categoría:"
   ]
  },
  {
   "cell_type": "code",
   "execution_count": null,
   "id": "b9cfb0dc",
   "metadata": {},
   "outputs": [],
   "source": []
  },
  {
   "cell_type": "markdown",
   "id": "141fd5c2",
   "metadata": {},
   "source": [
    "## 3. Calificación promedio de la tienda:"
   ]
  },
  {
   "cell_type": "code",
   "execution_count": null,
   "id": "e0be075b",
   "metadata": {},
   "outputs": [],
   "source": []
  },
  {
   "cell_type": "markdown",
   "id": "c4c50462",
   "metadata": {},
   "source": [
    "## 4. Productos más y menos vendidos:"
   ]
  },
  {
   "cell_type": "code",
   "execution_count": null,
   "id": "95248326",
   "metadata": {},
   "outputs": [],
   "source": []
  },
  {
   "cell_type": "markdown",
   "id": "d5ef8a02",
   "metadata": {},
   "source": [
    "## 5. Envío promedio por tienda:"
   ]
  },
  {
   "cell_type": "code",
   "execution_count": null,
   "id": "f6c50974",
   "metadata": {},
   "outputs": [],
   "source": []
  }
 ],
 "metadata": {
  "kernelspec": {
   "display_name": "Python 3",
   "language": "python",
   "name": "python3"
  },
  "language_info": {
   "codemirror_mode": {
    "name": "ipython",
    "version": 3
   },
   "file_extension": ".py",
   "mimetype": "text/x-python",
   "name": "python",
   "nbconvert_exporter": "python",
   "pygments_lexer": "ipython3",
   "version": "3.13.0"
  }
 },
 "nbformat": 4,
 "nbformat_minor": 5
}
